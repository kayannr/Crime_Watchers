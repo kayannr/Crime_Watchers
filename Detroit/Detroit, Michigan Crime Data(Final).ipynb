{
 "cells": [
  {
   "cell_type": "markdown",
   "metadata": {},
   "source": [
    "# Data of Crime 2020 (Post COVID-19)"
   ]
  },
  {
   "cell_type": "code",
   "execution_count": 1,
   "metadata": {},
   "outputs": [],
   "source": [
    "# Import Dependencies\n",
    "import pandas as pd\n",
    "import numpy as np\n",
    "import matplotlib.pyplot as plt\n",
    "import csv"
   ]
  },
  {
   "cell_type": "code",
   "execution_count": 2,
   "metadata": {},
   "outputs": [
    {
     "data": {
      "text/plain": [
       "Index(['X', 'Y', 'crime_id', 'report_number', 'address', 'offense_description',\n",
       "       'offense_category', 'state_offense_code', 'arrest_charge',\n",
       "       'charge_description', 'incident_timestamp', 'incident_time',\n",
       "       'day_of_week', 'hour_of_day', 'year', 'scout_car_area', 'precinct',\n",
       "       'block_id', 'neighborhood', 'council_district', 'zip_code', 'longitude',\n",
       "       'latitude', 'oid'],\n",
       "      dtype='object')"
      ]
     },
     "execution_count": 2,
     "metadata": {},
     "output_type": "execute_result"
    }
   ],
   "source": [
    "# Read the csv file\n",
    "file_path = 'RMS_Crime_Incidents.csv'\n",
    "after_df = pd.read_csv(file_path)\n",
    "after_df.columns"
   ]
  },
  {
   "cell_type": "code",
   "execution_count": 3,
   "metadata": {},
   "outputs": [
    {
     "data": {
      "text/html": [
       "<div>\n",
       "<style scoped>\n",
       "    .dataframe tbody tr th:only-of-type {\n",
       "        vertical-align: middle;\n",
       "    }\n",
       "\n",
       "    .dataframe tbody tr th {\n",
       "        vertical-align: top;\n",
       "    }\n",
       "\n",
       "    .dataframe thead th {\n",
       "        text-align: right;\n",
       "    }\n",
       "</style>\n",
       "<table border=\"1\" class=\"dataframe\">\n",
       "  <thead>\n",
       "    <tr style=\"text-align: right;\">\n",
       "      <th></th>\n",
       "      <th>offense_category</th>\n",
       "      <th>charge_description</th>\n",
       "      <th>day_of_week</th>\n",
       "      <th>year</th>\n",
       "    </tr>\n",
       "  </thead>\n",
       "  <tbody>\n",
       "    <tr>\n",
       "      <td>0</td>\n",
       "      <td>SEXUAL ASSAULT</td>\n",
       "      <td>CSC 3RD DEGREE - OBJECT</td>\n",
       "      <td>5</td>\n",
       "      <td>2020</td>\n",
       "    </tr>\n",
       "    <tr>\n",
       "      <td>1</td>\n",
       "      <td>SEX OFFENSES</td>\n",
       "      <td>CSC 2ND DEGREE - FORCIBLE CONTACT</td>\n",
       "      <td>2</td>\n",
       "      <td>2020</td>\n",
       "    </tr>\n",
       "    <tr>\n",
       "      <td>2</td>\n",
       "      <td>SEX OFFENSES</td>\n",
       "      <td>CSC 2ND DEGREE - FORCIBLE CONTACT</td>\n",
       "      <td>7</td>\n",
       "      <td>2020</td>\n",
       "    </tr>\n",
       "    <tr>\n",
       "      <td>3</td>\n",
       "      <td>SEX OFFENSES</td>\n",
       "      <td>CSC 2ND DEGREE - FORCIBLE CONTACT</td>\n",
       "      <td>1</td>\n",
       "      <td>2020</td>\n",
       "    </tr>\n",
       "    <tr>\n",
       "      <td>4</td>\n",
       "      <td>SEX OFFENSES</td>\n",
       "      <td>CSC 2ND DEGREE - FORCIBLE CONTACT</td>\n",
       "      <td>2</td>\n",
       "      <td>2020</td>\n",
       "    </tr>\n",
       "    <tr>\n",
       "      <td>...</td>\n",
       "      <td>...</td>\n",
       "      <td>...</td>\n",
       "      <td>...</td>\n",
       "      <td>...</td>\n",
       "    </tr>\n",
       "    <tr>\n",
       "      <td>19585</td>\n",
       "      <td>OUIL</td>\n",
       "      <td>ACCIDENT, HIT &amp; RUN</td>\n",
       "      <td>2</td>\n",
       "      <td>2020</td>\n",
       "    </tr>\n",
       "    <tr>\n",
       "      <td>19586</td>\n",
       "      <td>OTHER</td>\n",
       "      <td>HEALTH AND SAFETY</td>\n",
       "      <td>2</td>\n",
       "      <td>2020</td>\n",
       "    </tr>\n",
       "    <tr>\n",
       "      <td>19587</td>\n",
       "      <td>OTHER</td>\n",
       "      <td>HEALTH AND SAFETY</td>\n",
       "      <td>5</td>\n",
       "      <td>2020</td>\n",
       "    </tr>\n",
       "    <tr>\n",
       "      <td>19588</td>\n",
       "      <td>OTHER</td>\n",
       "      <td>HEALTH AND SAFETY</td>\n",
       "      <td>7</td>\n",
       "      <td>2020</td>\n",
       "    </tr>\n",
       "    <tr>\n",
       "      <td>19589</td>\n",
       "      <td>OTHER</td>\n",
       "      <td>HEALTH AND SAFETY</td>\n",
       "      <td>6</td>\n",
       "      <td>2020</td>\n",
       "    </tr>\n",
       "  </tbody>\n",
       "</table>\n",
       "<p>19590 rows × 4 columns</p>\n",
       "</div>"
      ],
      "text/plain": [
       "      offense_category                 charge_description  day_of_week  year\n",
       "0       SEXUAL ASSAULT            CSC 3RD DEGREE - OBJECT            5  2020\n",
       "1         SEX OFFENSES  CSC 2ND DEGREE - FORCIBLE CONTACT            2  2020\n",
       "2         SEX OFFENSES  CSC 2ND DEGREE - FORCIBLE CONTACT            7  2020\n",
       "3         SEX OFFENSES  CSC 2ND DEGREE - FORCIBLE CONTACT            1  2020\n",
       "4         SEX OFFENSES  CSC 2ND DEGREE - FORCIBLE CONTACT            2  2020\n",
       "...                ...                                ...          ...   ...\n",
       "19585             OUIL                ACCIDENT, HIT & RUN            2  2020\n",
       "19586            OTHER                  HEALTH AND SAFETY            2  2020\n",
       "19587            OTHER                  HEALTH AND SAFETY            5  2020\n",
       "19588            OTHER                  HEALTH AND SAFETY            7  2020\n",
       "19589            OTHER                  HEALTH AND SAFETY            6  2020\n",
       "\n",
       "[19590 rows x 4 columns]"
      ]
     },
     "execution_count": 3,
     "metadata": {},
     "output_type": "execute_result"
    }
   ],
   "source": [
    "# Filter the data to the columns wanted\n",
    "crime_data = after_df[['offense_category', 'charge_description','day_of_week', 'year']]\n",
    "crime_data"
   ]
  },
  {
   "cell_type": "code",
   "execution_count": 4,
   "metadata": {},
   "outputs": [
    {
     "data": {
      "text/html": [
       "<div>\n",
       "<style scoped>\n",
       "    .dataframe tbody tr th:only-of-type {\n",
       "        vertical-align: middle;\n",
       "    }\n",
       "\n",
       "    .dataframe tbody tr th {\n",
       "        vertical-align: top;\n",
       "    }\n",
       "\n",
       "    .dataframe thead th {\n",
       "        text-align: right;\n",
       "    }\n",
       "</style>\n",
       "<table border=\"1\" class=\"dataframe\">\n",
       "  <thead>\n",
       "    <tr style=\"text-align: right;\">\n",
       "      <th></th>\n",
       "      <th>offense_category</th>\n",
       "      <th>charge_description</th>\n",
       "      <th>day_of_week</th>\n",
       "      <th>year</th>\n",
       "    </tr>\n",
       "  </thead>\n",
       "  <tbody>\n",
       "    <tr>\n",
       "      <td>0</td>\n",
       "      <td>SEXUAL ASSAULT</td>\n",
       "      <td>CSC 3RD DEGREE - OBJECT</td>\n",
       "      <td>5</td>\n",
       "      <td>2020</td>\n",
       "    </tr>\n",
       "    <tr>\n",
       "      <td>1</td>\n",
       "      <td>SEX OFFENSES</td>\n",
       "      <td>CSC 2ND DEGREE - FORCIBLE CONTACT</td>\n",
       "      <td>2</td>\n",
       "      <td>2020</td>\n",
       "    </tr>\n",
       "    <tr>\n",
       "      <td>2</td>\n",
       "      <td>SEX OFFENSES</td>\n",
       "      <td>CSC 2ND DEGREE - FORCIBLE CONTACT</td>\n",
       "      <td>7</td>\n",
       "      <td>2020</td>\n",
       "    </tr>\n",
       "    <tr>\n",
       "      <td>3</td>\n",
       "      <td>SEX OFFENSES</td>\n",
       "      <td>CSC 2ND DEGREE - FORCIBLE CONTACT</td>\n",
       "      <td>1</td>\n",
       "      <td>2020</td>\n",
       "    </tr>\n",
       "    <tr>\n",
       "      <td>4</td>\n",
       "      <td>SEX OFFENSES</td>\n",
       "      <td>CSC 2ND DEGREE - FORCIBLE CONTACT</td>\n",
       "      <td>2</td>\n",
       "      <td>2020</td>\n",
       "    </tr>\n",
       "    <tr>\n",
       "      <td>...</td>\n",
       "      <td>...</td>\n",
       "      <td>...</td>\n",
       "      <td>...</td>\n",
       "      <td>...</td>\n",
       "    </tr>\n",
       "    <tr>\n",
       "      <td>19585</td>\n",
       "      <td>OUIL</td>\n",
       "      <td>ACCIDENT, HIT &amp; RUN</td>\n",
       "      <td>2</td>\n",
       "      <td>2020</td>\n",
       "    </tr>\n",
       "    <tr>\n",
       "      <td>19586</td>\n",
       "      <td>OTHER</td>\n",
       "      <td>HEALTH AND SAFETY</td>\n",
       "      <td>2</td>\n",
       "      <td>2020</td>\n",
       "    </tr>\n",
       "    <tr>\n",
       "      <td>19587</td>\n",
       "      <td>OTHER</td>\n",
       "      <td>HEALTH AND SAFETY</td>\n",
       "      <td>5</td>\n",
       "      <td>2020</td>\n",
       "    </tr>\n",
       "    <tr>\n",
       "      <td>19588</td>\n",
       "      <td>OTHER</td>\n",
       "      <td>HEALTH AND SAFETY</td>\n",
       "      <td>7</td>\n",
       "      <td>2020</td>\n",
       "    </tr>\n",
       "    <tr>\n",
       "      <td>19589</td>\n",
       "      <td>OTHER</td>\n",
       "      <td>HEALTH AND SAFETY</td>\n",
       "      <td>6</td>\n",
       "      <td>2020</td>\n",
       "    </tr>\n",
       "  </tbody>\n",
       "</table>\n",
       "<p>19590 rows × 4 columns</p>\n",
       "</div>"
      ],
      "text/plain": [
       "      offense_category                 charge_description  day_of_week  year\n",
       "0       SEXUAL ASSAULT            CSC 3RD DEGREE - OBJECT            5  2020\n",
       "1         SEX OFFENSES  CSC 2ND DEGREE - FORCIBLE CONTACT            2  2020\n",
       "2         SEX OFFENSES  CSC 2ND DEGREE - FORCIBLE CONTACT            7  2020\n",
       "3         SEX OFFENSES  CSC 2ND DEGREE - FORCIBLE CONTACT            1  2020\n",
       "4         SEX OFFENSES  CSC 2ND DEGREE - FORCIBLE CONTACT            2  2020\n",
       "...                ...                                ...          ...   ...\n",
       "19585             OUIL                ACCIDENT, HIT & RUN            2  2020\n",
       "19586            OTHER                  HEALTH AND SAFETY            2  2020\n",
       "19587            OTHER                  HEALTH AND SAFETY            5  2020\n",
       "19588            OTHER                  HEALTH AND SAFETY            7  2020\n",
       "19589            OTHER                  HEALTH AND SAFETY            6  2020\n",
       "\n",
       "[19590 rows x 4 columns]"
      ]
     },
     "execution_count": 4,
     "metadata": {},
     "output_type": "execute_result"
    }
   ],
   "source": [
    "# Grabbing only data on 2020\n",
    "data_2020 = crime_data.loc[crime_data['year'] == 2020]\n",
    "data_2020"
   ]
  },
  {
   "cell_type": "code",
   "execution_count": 5,
   "metadata": {},
   "outputs": [
    {
     "data": {
      "text/plain": [
       "array(['SEXUAL ASSAULT', 'SEX OFFENSES', 'ASSAULT', 'FRAUD', 'ARSON',\n",
       "       'OUIL', 'HOMICIDE', 'KIDNAPPING', 'AGGRAVATED ASSAULT', 'BURGLARY',\n",
       "       'LARCENY', 'STOLEN VEHICLE', 'STOLEN PROPERTY',\n",
       "       'DAMAGE TO PROPERTY', 'DANGEROUS DRUGS', 'FAMILY OFFENSE',\n",
       "       'LIQUOR', 'WEAPONS OFFENSES', 'DISORDERLY CONDUCT', 'OTHER',\n",
       "       'RUNAWAY', 'MISCELLANEOUS', 'ROBBERY', 'EXTORTION', 'FORGERY',\n",
       "       'OBSTRUCTING THE POLICE', 'OBSTRUCTING JUDICIARY', 'SOLICITATION'],\n",
       "      dtype=object)"
      ]
     },
     "execution_count": 5,
     "metadata": {},
     "output_type": "execute_result"
    }
   ],
   "source": [
    "# Pulling up the unique names for the types of crimes to sort it\n",
    "data_2020['offense_category'].unique()\n",
    "# Murder = homicide\n",
    "# Rape = sexual assault, sex offenses\n",
    "# Robbery = robbery, extortion\n",
    "# Assault = assault, aggravated assault\n",
    "# Burglary = burglary\n",
    "# Larceny = fraud, larceny, stolen property\n",
    "# Motor vehicle theft = stolen vehicle\n",
    "# Domestic violence = family offense"
   ]
  },
  {
   "cell_type": "code",
   "execution_count": 6,
   "metadata": {},
   "outputs": [
    {
     "data": {
      "text/html": [
       "<div>\n",
       "<style scoped>\n",
       "    .dataframe tbody tr th:only-of-type {\n",
       "        vertical-align: middle;\n",
       "    }\n",
       "\n",
       "    .dataframe tbody tr th {\n",
       "        vertical-align: top;\n",
       "    }\n",
       "\n",
       "    .dataframe thead th {\n",
       "        text-align: right;\n",
       "    }\n",
       "</style>\n",
       "<table border=\"1\" class=\"dataframe\">\n",
       "  <thead>\n",
       "    <tr style=\"text-align: right;\">\n",
       "      <th></th>\n",
       "      <th>offense_category</th>\n",
       "      <th>charge_description</th>\n",
       "      <th>day_of_week</th>\n",
       "      <th>year</th>\n",
       "    </tr>\n",
       "  </thead>\n",
       "  <tbody>\n",
       "    <tr>\n",
       "      <td>0</td>\n",
       "      <td>SEXUAL ASSAULT</td>\n",
       "      <td>CSC 3RD DEGREE - OBJECT</td>\n",
       "      <td>5</td>\n",
       "      <td>2020</td>\n",
       "    </tr>\n",
       "    <tr>\n",
       "      <td>1</td>\n",
       "      <td>SEX OFFENSES</td>\n",
       "      <td>CSC 2ND DEGREE - FORCIBLE CONTACT</td>\n",
       "      <td>2</td>\n",
       "      <td>2020</td>\n",
       "    </tr>\n",
       "    <tr>\n",
       "      <td>2</td>\n",
       "      <td>SEX OFFENSES</td>\n",
       "      <td>CSC 2ND DEGREE - FORCIBLE CONTACT</td>\n",
       "      <td>7</td>\n",
       "      <td>2020</td>\n",
       "    </tr>\n",
       "    <tr>\n",
       "      <td>3</td>\n",
       "      <td>SEX OFFENSES</td>\n",
       "      <td>CSC 2ND DEGREE - FORCIBLE CONTACT</td>\n",
       "      <td>1</td>\n",
       "      <td>2020</td>\n",
       "    </tr>\n",
       "    <tr>\n",
       "      <td>4</td>\n",
       "      <td>SEX OFFENSES</td>\n",
       "      <td>CSC 2ND DEGREE - FORCIBLE CONTACT</td>\n",
       "      <td>2</td>\n",
       "      <td>2020</td>\n",
       "    </tr>\n",
       "  </tbody>\n",
       "</table>\n",
       "</div>"
      ],
      "text/plain": [
       "  offense_category                 charge_description  day_of_week  year\n",
       "0   SEXUAL ASSAULT            CSC 3RD DEGREE - OBJECT            5  2020\n",
       "1     SEX OFFENSES  CSC 2ND DEGREE - FORCIBLE CONTACT            2  2020\n",
       "2     SEX OFFENSES  CSC 2ND DEGREE - FORCIBLE CONTACT            7  2020\n",
       "3     SEX OFFENSES  CSC 2ND DEGREE - FORCIBLE CONTACT            1  2020\n",
       "4     SEX OFFENSES  CSC 2ND DEGREE - FORCIBLE CONTACT            2  2020"
      ]
     },
     "execution_count": 6,
     "metadata": {},
     "output_type": "execute_result"
    }
   ],
   "source": [
    "# Cleaning it to have only the types of crime wanted\n",
    "cleaned_df = data_2020.loc[(crime_data['offense_category'] == 'SEXUAL ASSAULT')\n",
    "              |\n",
    "              (crime_data['offense_category'] == 'SEX OFFENSES')\n",
    "              |\n",
    "              (crime_data['offense_category'] == 'ASSAULT')\n",
    "              |\n",
    "              (crime_data['offense_category'] == 'FRAUD')\n",
    "              |\n",
    "              (crime_data['offense_category'] == 'HOMICIDE')\n",
    "              |\n",
    "              (crime_data['offense_category'] == 'AGGRAVATED ASSAULT')\n",
    "              |\n",
    "              (crime_data['offense_category'] == 'BURGLARY')\n",
    "              |\n",
    "              (crime_data['offense_category'] == 'LARCENY')\n",
    "              |\n",
    "              (crime_data['offense_category'] == 'STOLEN VEHICLE')\n",
    "              |\n",
    "              (crime_data['offense_category'] == 'STOLEN PROPERTY')\n",
    "              |\n",
    "              (crime_data['offense_category'] == 'FAMILY OFFENSE')\n",
    "              |\n",
    "              (crime_data['offense_category'] == 'ROBBERY')\n",
    "              |\n",
    "              (crime_data['offense_category'] == 'EXTORTION')]\n",
    "cleaned_df.head()"
   ]
  },
  {
   "cell_type": "code",
   "execution_count": 7,
   "metadata": {},
   "outputs": [],
   "source": [
    "# Separating the data to each category wanted\n",
    "murder_data = cleaned_df.loc[cleaned_df['offense_category'] == 'HOMICIDE']\n",
    "rape_data = cleaned_df.loc[(cleaned_df['offense_category'] == 'SEXUAL ASSAULT')\n",
    "                          |\n",
    "                          (cleaned_df['offense_category'] == 'SEX OFFENSES')]\n",
    "robbery_data = cleaned_df.loc[(cleaned_df['offense_category'] == 'ROBBERY')\n",
    "                             |\n",
    "                             (cleaned_df['offense_category'] == 'EXTORTION')]\n",
    "assault_data = cleaned_df.loc[(cleaned_df['offense_category'] == 'ASSAULT')\n",
    "                             |\n",
    "                             (cleaned_df['offense_category'] == 'AGGRAVATED ASSAULT')]\n",
    "burglary_data = cleaned_df.loc[cleaned_df['offense_category'] == 'BURGLARY']\n",
    "larceny_data = cleaned_df.loc[(cleaned_df['offense_category'] == 'FRAUD')\n",
    "                             |\n",
    "                             (cleaned_df['offense_category'] == 'LARCENY')\n",
    "                             |\n",
    "                             (cleaned_df['offense_category'] == 'STOLEN PROPERTY')]\n",
    "motor_theft_data = cleaned_df.loc[cleaned_df['offense_category'] == 'STOLEN VEHICLE']\n",
    "dom_violence_data = cleaned_df.loc[cleaned_df['offense_category'] == 'FAMILY OFFENSE']"
   ]
  },
  {
   "cell_type": "code",
   "execution_count": 8,
   "metadata": {},
   "outputs": [
    {
     "name": "stdout",
     "output_type": "stream",
     "text": [
      "54\n",
      "370\n",
      "558\n",
      "6011\n",
      "1480\n",
      "4725\n",
      "1651\n",
      "160\n"
     ]
    }
   ],
   "source": [
    "# Count of each type of crime\n",
    "murder_count = len(murder_data)\n",
    "rape_count = len(rape_data)\n",
    "robbery_count = len(robbery_data)\n",
    "assault_count = len(assault_data)\n",
    "burglary_count = len(burglary_data)\n",
    "larceny_count = len(larceny_data)\n",
    "motor_count = len(motor_theft_data)\n",
    "dom_violence_count = len(dom_violence_data)\n",
    "print(murder_count)\n",
    "print(rape_count)\n",
    "print(robbery_count)\n",
    "print(assault_count)\n",
    "print(burglary_count)\n",
    "print(larceny_count)\n",
    "print(motor_count)\n",
    "print(dom_violence_count)"
   ]
  },
  {
   "cell_type": "code",
   "execution_count": 9,
   "metadata": {},
   "outputs": [
    {
     "data": {
      "text/html": [
       "<div>\n",
       "<style scoped>\n",
       "    .dataframe tbody tr th:only-of-type {\n",
       "        vertical-align: middle;\n",
       "    }\n",
       "\n",
       "    .dataframe tbody tr th {\n",
       "        vertical-align: top;\n",
       "    }\n",
       "\n",
       "    .dataframe thead th {\n",
       "        text-align: right;\n",
       "    }\n",
       "</style>\n",
       "<table border=\"1\" class=\"dataframe\">\n",
       "  <thead>\n",
       "    <tr style=\"text-align: right;\">\n",
       "      <th></th>\n",
       "      <th>offense_category</th>\n",
       "      <th>charge_description</th>\n",
       "      <th>day_of_week</th>\n",
       "      <th>year</th>\n",
       "    </tr>\n",
       "  </thead>\n",
       "  <tbody>\n",
       "    <tr>\n",
       "      <td>1</td>\n",
       "      <td>SEX OFFENSES</td>\n",
       "      <td>CSC 2ND DEGREE - FORCIBLE CONTACT</td>\n",
       "      <td>2</td>\n",
       "      <td>2020</td>\n",
       "    </tr>\n",
       "    <tr>\n",
       "      <td>3</td>\n",
       "      <td>SEX OFFENSES</td>\n",
       "      <td>CSC 2ND DEGREE - FORCIBLE CONTACT</td>\n",
       "      <td>1</td>\n",
       "      <td>2020</td>\n",
       "    </tr>\n",
       "    <tr>\n",
       "      <td>4</td>\n",
       "      <td>SEX OFFENSES</td>\n",
       "      <td>CSC 2ND DEGREE - FORCIBLE CONTACT</td>\n",
       "      <td>2</td>\n",
       "      <td>2020</td>\n",
       "    </tr>\n",
       "    <tr>\n",
       "      <td>8</td>\n",
       "      <td>SEX OFFENSES</td>\n",
       "      <td>CSC 2ND DEGREE - FORCIBLE CONTACT</td>\n",
       "      <td>3</td>\n",
       "      <td>2020</td>\n",
       "    </tr>\n",
       "    <tr>\n",
       "      <td>10</td>\n",
       "      <td>SEX OFFENSES</td>\n",
       "      <td>CSC 2ND DEGREE - FORCIBLE CONTACT</td>\n",
       "      <td>3</td>\n",
       "      <td>2020</td>\n",
       "    </tr>\n",
       "  </tbody>\n",
       "</table>\n",
       "</div>"
      ],
      "text/plain": [
       "   offense_category                 charge_description  day_of_week  year\n",
       "1      SEX OFFENSES  CSC 2ND DEGREE - FORCIBLE CONTACT            2  2020\n",
       "3      SEX OFFENSES  CSC 2ND DEGREE - FORCIBLE CONTACT            1  2020\n",
       "4      SEX OFFENSES  CSC 2ND DEGREE - FORCIBLE CONTACT            2  2020\n",
       "8      SEX OFFENSES  CSC 2ND DEGREE - FORCIBLE CONTACT            3  2020\n",
       "10     SEX OFFENSES  CSC 2ND DEGREE - FORCIBLE CONTACT            3  2020"
      ]
     },
     "execution_count": 9,
     "metadata": {},
     "output_type": "execute_result"
    }
   ],
   "source": [
    "# Total Violence\n",
    "total_jan = cleaned_df.loc[(cleaned_df['day_of_week'] >=1)\n",
    "               &\n",
    "               (cleaned_df['day_of_week'] <=4)]\n",
    "\n",
    "total_feb = cleaned_df.loc[(cleaned_df['day_of_week'] >=5)\n",
    "               &\n",
    "               (cleaned_df['day_of_week'] <=8)]\n",
    "total_jan.head()"
   ]
  },
  {
   "cell_type": "code",
   "execution_count": 10,
   "metadata": {},
   "outputs": [
    {
     "name": "stdout",
     "output_type": "stream",
     "text": [
      "8563\n",
      "6446\n"
     ]
    }
   ],
   "source": [
    "# Total Violence Count\n",
    "total_jan_count = len(total_jan)\n",
    "total_feb_count = len(total_feb)\n",
    "print(total_jan_count)\n",
    "print(total_feb_count)"
   ]
  },
  {
   "cell_type": "code",
   "execution_count": 30,
   "metadata": {},
   "outputs": [
    {
     "data": {
      "image/png": "[encoded data removed]",
      "text/plain": [
       "<Figure size 504x360 with 1 Axes>"
      ]
     },
     "metadata": {
      "needs_background": "light"
     },
     "output_type": "display_data"
    }
   ],
   "source": [
    "# Bar Graph of 2020\n",
    "crime_types = [\"Murder\",\"Rape\",\"Robbery\",\"Assault\",\"Burglary\",\"Larceny\",\"Motor Vehicle Theft\",\"Domestic Violence\"]\n",
    "counts = [murder_count, rape_count, robbery_count, assault_count, burglary_count, larceny_count, motor_count, dom_violence_count]\n",
    "x_axis = np.arange(len(crime_types))\n",
    "color = ['crimson','cyan','yellow','lightgreen','lavender','red','blue','green']\n",
    "\n",
    "plt.figure(figsize=(7,5))\n",
    "\n",
    "tick_locations = [value for value in x_axis]\n",
    "plt.xticks(x_axis, crime_types, rotation=\"45\")\n",
    "\n",
    "plt.bar(x_axis, counts, color=color, alpha=0.5)\n",
    "\n",
    "plt.title(\"Crime Counts of 2020 By Types\")\n",
    "plt.xlabel(\"Type of Crime\")\n",
    "plt.ylabel(\"Number of Arrests\")\n",
    "\n",
    "#plt.savefig(\"Crime Counts 2020\")\n",
    "plt.show()"
   ]
  },
  {
   "cell_type": "code",
   "execution_count": 12,
   "metadata": {},
   "outputs": [
    {
     "data": {
      "text/plain": [
       "15009"
      ]
     },
     "execution_count": 12,
     "metadata": {},
     "output_type": "execute_result"
    }
   ],
   "source": [
    "# Total of 2020\n",
    "total_2020 = total_jan_count + total_feb_count\n",
    "total_2020"
   ]
  },
  {
   "cell_type": "markdown",
   "metadata": {},
   "source": [
    "# Data of Crime 2018 (Pre-COVID-19)"
   ]
  },
  {
   "cell_type": "code",
   "execution_count": 13,
   "metadata": {},
   "outputs": [],
   "source": [
    "# Import Dependencies\n",
    "import pandas as pd\n",
    "import numpy as np\n",
    "import matplotlib.pyplot as plt\n",
    "import requests\n",
    "import json\n",
    "import csv\n",
    "from pprint import pprint"
   ]
  },
  {
   "cell_type": "code",
   "execution_count": 14,
   "metadata": {},
   "outputs": [],
   "source": [
    "# Read the csv files\n",
    "total_data = pd.read_csv('Michigan 2018 Crime Data Total.csv')\n",
    "dv_data = pd.read_csv('Domestic Violence Total.csv')"
   ]
  },
  {
   "cell_type": "code",
   "execution_count": 15,
   "metadata": {},
   "outputs": [
    {
     "data": {
      "text/html": [
       "<div>\n",
       "<style scoped>\n",
       "    .dataframe tbody tr th:only-of-type {\n",
       "        vertical-align: middle;\n",
       "    }\n",
       "\n",
       "    .dataframe tbody tr th {\n",
       "        vertical-align: top;\n",
       "    }\n",
       "\n",
       "    .dataframe thead th {\n",
       "        text-align: right;\n",
       "    }\n",
       "</style>\n",
       "<table border=\"1\" class=\"dataframe\">\n",
       "  <thead>\n",
       "    <tr style=\"text-align: right;\">\n",
       "      <th></th>\n",
       "      <th>2018</th>\n",
       "      <th>January</th>\n",
       "      <th>February</th>\n",
       "      <th>March</th>\n",
       "      <th>April</th>\n",
       "      <th>May</th>\n",
       "      <th>June</th>\n",
       "      <th>July</th>\n",
       "      <th>August</th>\n",
       "      <th>September</th>\n",
       "      <th>October</th>\n",
       "      <th>November</th>\n",
       "      <th>December</th>\n",
       "    </tr>\n",
       "  </thead>\n",
       "  <tbody>\n",
       "    <tr>\n",
       "      <td>0</td>\n",
       "      <td>Murder</td>\n",
       "      <td>48</td>\n",
       "      <td>48</td>\n",
       "      <td>38</td>\n",
       "      <td>46</td>\n",
       "      <td>48</td>\n",
       "      <td>41</td>\n",
       "      <td>38</td>\n",
       "      <td>65</td>\n",
       "      <td>49</td>\n",
       "      <td>49</td>\n",
       "      <td>40</td>\n",
       "      <td>40</td>\n",
       "    </tr>\n",
       "    <tr>\n",
       "      <td>1</td>\n",
       "      <td>Rape Total</td>\n",
       "      <td>683</td>\n",
       "      <td>587</td>\n",
       "      <td>638</td>\n",
       "      <td>656</td>\n",
       "      <td>652</td>\n",
       "      <td>641</td>\n",
       "      <td>709</td>\n",
       "      <td>654</td>\n",
       "      <td>665</td>\n",
       "      <td>667</td>\n",
       "      <td>552</td>\n",
       "      <td>504</td>\n",
       "    </tr>\n",
       "    <tr>\n",
       "      <td>2</td>\n",
       "      <td>Robbery Total</td>\n",
       "      <td>454</td>\n",
       "      <td>368</td>\n",
       "      <td>388</td>\n",
       "      <td>425</td>\n",
       "      <td>455</td>\n",
       "      <td>528</td>\n",
       "      <td>559</td>\n",
       "      <td>541</td>\n",
       "      <td>518</td>\n",
       "      <td>2641</td>\n",
       "      <td>455</td>\n",
       "      <td>473</td>\n",
       "    </tr>\n",
       "    <tr>\n",
       "      <td>3</td>\n",
       "      <td>Assault</td>\n",
       "      <td>2190</td>\n",
       "      <td>1916</td>\n",
       "      <td>2315</td>\n",
       "      <td>2524</td>\n",
       "      <td>2965</td>\n",
       "      <td>2922</td>\n",
       "      <td>2948</td>\n",
       "      <td>3046</td>\n",
       "      <td>2799</td>\n",
       "      <td>2589</td>\n",
       "      <td>2307</td>\n",
       "      <td>2536</td>\n",
       "    </tr>\n",
       "    <tr>\n",
       "      <td>4</td>\n",
       "      <td>Burglary</td>\n",
       "      <td>2510</td>\n",
       "      <td>1955</td>\n",
       "      <td>2249</td>\n",
       "      <td>2403</td>\n",
       "      <td>2667</td>\n",
       "      <td>2797</td>\n",
       "      <td>3063</td>\n",
       "      <td>2977</td>\n",
       "      <td>2858</td>\n",
       "      <td>2641</td>\n",
       "      <td>2468</td>\n",
       "      <td>2574</td>\n",
       "    </tr>\n",
       "  </tbody>\n",
       "</table>\n",
       "</div>"
      ],
      "text/plain": [
       "            2018  January  February  March  April   May  June  July  August  \\\n",
       "0         Murder       48        48     38     46    48    41    38      65   \n",
       "1     Rape Total      683       587    638    656   652   641   709     654   \n",
       "2  Robbery Total      454       368    388    425   455   528   559     541   \n",
       "3        Assault     2190      1916   2315   2524  2965  2922  2948    3046   \n",
       "4       Burglary     2510      1955   2249   2403  2667  2797  3063    2977   \n",
       "\n",
       "   September  October  November  December  \n",
       "0         49       49        40        40  \n",
       "1        665      667       552       504  \n",
       "2        518     2641       455       473  \n",
       "3       2799     2589      2307      2536  \n",
       "4       2858     2641      2468      2574  "
      ]
     },
     "execution_count": 15,
     "metadata": {},
     "output_type": "execute_result"
    }
   ],
   "source": [
    "# Display the data\n",
    "total_data.head()"
   ]
  },
  {
   "cell_type": "code",
   "execution_count": 16,
   "metadata": {},
   "outputs": [
    {
     "data": {
      "text/html": [
       "<div>\n",
       "<style scoped>\n",
       "    .dataframe tbody tr th:only-of-type {\n",
       "        vertical-align: middle;\n",
       "    }\n",
       "\n",
       "    .dataframe tbody tr th {\n",
       "        vertical-align: top;\n",
       "    }\n",
       "\n",
       "    .dataframe thead th {\n",
       "        text-align: right;\n",
       "    }\n",
       "</style>\n",
       "<table border=\"1\" class=\"dataframe\">\n",
       "  <thead>\n",
       "    <tr style=\"text-align: right;\">\n",
       "      <th></th>\n",
       "      <th>2018</th>\n",
       "      <th>January</th>\n",
       "      <th>February</th>\n",
       "      <th>March</th>\n",
       "      <th>April</th>\n",
       "      <th>May</th>\n",
       "      <th>June</th>\n",
       "      <th>July</th>\n",
       "      <th>August</th>\n",
       "      <th>September</th>\n",
       "      <th>October</th>\n",
       "      <th>November</th>\n",
       "      <th>December</th>\n",
       "    </tr>\n",
       "  </thead>\n",
       "  <tbody>\n",
       "    <tr>\n",
       "      <td>0</td>\n",
       "      <td>Murder</td>\n",
       "      <td>48</td>\n",
       "      <td>48</td>\n",
       "      <td>38</td>\n",
       "      <td>46</td>\n",
       "      <td>48</td>\n",
       "      <td>41</td>\n",
       "      <td>38</td>\n",
       "      <td>65</td>\n",
       "      <td>49</td>\n",
       "      <td>49</td>\n",
       "      <td>40</td>\n",
       "      <td>40</td>\n",
       "    </tr>\n",
       "    <tr>\n",
       "      <td>1</td>\n",
       "      <td>Rape Total</td>\n",
       "      <td>683</td>\n",
       "      <td>587</td>\n",
       "      <td>638</td>\n",
       "      <td>656</td>\n",
       "      <td>652</td>\n",
       "      <td>641</td>\n",
       "      <td>709</td>\n",
       "      <td>654</td>\n",
       "      <td>665</td>\n",
       "      <td>667</td>\n",
       "      <td>552</td>\n",
       "      <td>504</td>\n",
       "    </tr>\n",
       "    <tr>\n",
       "      <td>2</td>\n",
       "      <td>Robbery Total</td>\n",
       "      <td>454</td>\n",
       "      <td>368</td>\n",
       "      <td>388</td>\n",
       "      <td>425</td>\n",
       "      <td>455</td>\n",
       "      <td>528</td>\n",
       "      <td>559</td>\n",
       "      <td>541</td>\n",
       "      <td>518</td>\n",
       "      <td>2641</td>\n",
       "      <td>455</td>\n",
       "      <td>473</td>\n",
       "    </tr>\n",
       "    <tr>\n",
       "      <td>3</td>\n",
       "      <td>Assault</td>\n",
       "      <td>2190</td>\n",
       "      <td>1916</td>\n",
       "      <td>2315</td>\n",
       "      <td>2524</td>\n",
       "      <td>2965</td>\n",
       "      <td>2922</td>\n",
       "      <td>2948</td>\n",
       "      <td>3046</td>\n",
       "      <td>2799</td>\n",
       "      <td>2589</td>\n",
       "      <td>2307</td>\n",
       "      <td>2536</td>\n",
       "    </tr>\n",
       "    <tr>\n",
       "      <td>4</td>\n",
       "      <td>Burglary</td>\n",
       "      <td>2510</td>\n",
       "      <td>1955</td>\n",
       "      <td>2249</td>\n",
       "      <td>2403</td>\n",
       "      <td>2667</td>\n",
       "      <td>2797</td>\n",
       "      <td>3063</td>\n",
       "      <td>2977</td>\n",
       "      <td>2858</td>\n",
       "      <td>2641</td>\n",
       "      <td>2468</td>\n",
       "      <td>2574</td>\n",
       "    </tr>\n",
       "    <tr>\n",
       "      <td>5</td>\n",
       "      <td>Larceny Total</td>\n",
       "      <td>9080</td>\n",
       "      <td>7443</td>\n",
       "      <td>8568</td>\n",
       "      <td>8797</td>\n",
       "      <td>10319</td>\n",
       "      <td>10703</td>\n",
       "      <td>11499</td>\n",
       "      <td>11593</td>\n",
       "      <td>10735</td>\n",
       "      <td>10410</td>\n",
       "      <td>8810</td>\n",
       "      <td>9031</td>\n",
       "    </tr>\n",
       "    <tr>\n",
       "      <td>6</td>\n",
       "      <td>Motor Vehicle Theft</td>\n",
       "      <td>1396</td>\n",
       "      <td>1160</td>\n",
       "      <td>1381</td>\n",
       "      <td>1288</td>\n",
       "      <td>1542</td>\n",
       "      <td>1536</td>\n",
       "      <td>1733</td>\n",
       "      <td>1631</td>\n",
       "      <td>1576</td>\n",
       "      <td>1443</td>\n",
       "      <td>1355</td>\n",
       "      <td>1417</td>\n",
       "    </tr>\n",
       "  </tbody>\n",
       "</table>\n",
       "</div>"
      ],
      "text/plain": [
       "                  2018  January  February  March  April    May   June   July  \\\n",
       "0               Murder       48        48     38     46     48     41     38   \n",
       "1           Rape Total      683       587    638    656    652    641    709   \n",
       "2        Robbery Total      454       368    388    425    455    528    559   \n",
       "3              Assault     2190      1916   2315   2524   2965   2922   2948   \n",
       "4             Burglary     2510      1955   2249   2403   2667   2797   3063   \n",
       "5        Larceny Total     9080      7443   8568   8797  10319  10703  11499   \n",
       "6  Motor Vehicle Theft     1396      1160   1381   1288   1542   1536   1733   \n",
       "\n",
       "   August  September  October  November  December  \n",
       "0      65         49       49        40        40  \n",
       "1     654        665      667       552       504  \n",
       "2     541        518     2641       455       473  \n",
       "3    3046       2799     2589      2307      2536  \n",
       "4    2977       2858     2641      2468      2574  \n",
       "5   11593      10735    10410      8810      9031  \n",
       "6    1631       1576     1443      1355      1417  "
      ]
     },
     "execution_count": 16,
     "metadata": {},
     "output_type": "execute_result"
    }
   ],
   "source": [
    "# Fill the NaN with 0's\n",
    "total_no_nan = total_data.fillna(0)\n",
    "total_no_nan"
   ]
  },
  {
   "cell_type": "code",
   "execution_count": 17,
   "metadata": {},
   "outputs": [
    {
     "data": {
      "text/html": [
       "<div>\n",
       "<style scoped>\n",
       "    .dataframe tbody tr th:only-of-type {\n",
       "        vertical-align: middle;\n",
       "    }\n",
       "\n",
       "    .dataframe tbody tr th {\n",
       "        vertical-align: top;\n",
       "    }\n",
       "\n",
       "    .dataframe thead th {\n",
       "        text-align: right;\n",
       "    }\n",
       "</style>\n",
       "<table border=\"1\" class=\"dataframe\">\n",
       "  <thead>\n",
       "    <tr style=\"text-align: right;\">\n",
       "      <th></th>\n",
       "      <th>Unnamed: 0</th>\n",
       "      <th>Total</th>\n",
       "    </tr>\n",
       "  </thead>\n",
       "  <tbody>\n",
       "    <tr>\n",
       "      <td>0</td>\n",
       "      <td>Domestic Violence</td>\n",
       "      <td>18582</td>\n",
       "    </tr>\n",
       "  </tbody>\n",
       "</table>\n",
       "</div>"
      ],
      "text/plain": [
       "          Unnamed: 0  Total\n",
       "0  Domestic Violence  18582"
      ]
     },
     "execution_count": 17,
     "metadata": {},
     "output_type": "execute_result"
    }
   ],
   "source": [
    "# Display the data\n",
    "dv_data.head()"
   ]
  },
  {
   "cell_type": "code",
   "execution_count": 18,
   "metadata": {},
   "outputs": [
    {
     "data": {
      "text/plain": [
       "array(['Murder', 'Rape Total', 'Robbery Total', 'Assault', 'Burglary',\n",
       "       'Larceny Total', 'Motor Vehicle Theft'], dtype=object)"
      ]
     },
     "execution_count": 18,
     "metadata": {},
     "output_type": "execute_result"
    }
   ],
   "source": [
    "# Pulling up a unique list of the column to only use the total rows\n",
    "total_no_nan['2018'].unique()"
   ]
  },
  {
   "cell_type": "code",
   "execution_count": 19,
   "metadata": {},
   "outputs": [
    {
     "data": {
      "text/html": [
       "<div>\n",
       "<style scoped>\n",
       "    .dataframe tbody tr th:only-of-type {\n",
       "        vertical-align: middle;\n",
       "    }\n",
       "\n",
       "    .dataframe tbody tr th {\n",
       "        vertical-align: top;\n",
       "    }\n",
       "\n",
       "    .dataframe thead th {\n",
       "        text-align: right;\n",
       "    }\n",
       "</style>\n",
       "<table border=\"1\" class=\"dataframe\">\n",
       "  <thead>\n",
       "    <tr style=\"text-align: right;\">\n",
       "      <th></th>\n",
       "      <th>2018</th>\n",
       "      <th>January</th>\n",
       "      <th>February</th>\n",
       "    </tr>\n",
       "  </thead>\n",
       "  <tbody>\n",
       "    <tr>\n",
       "      <td>0</td>\n",
       "      <td>Murder</td>\n",
       "      <td>48</td>\n",
       "      <td>48</td>\n",
       "    </tr>\n",
       "    <tr>\n",
       "      <td>1</td>\n",
       "      <td>Rape Total</td>\n",
       "      <td>683</td>\n",
       "      <td>587</td>\n",
       "    </tr>\n",
       "    <tr>\n",
       "      <td>2</td>\n",
       "      <td>Robbery Total</td>\n",
       "      <td>454</td>\n",
       "      <td>368</td>\n",
       "    </tr>\n",
       "    <tr>\n",
       "      <td>3</td>\n",
       "      <td>Assault</td>\n",
       "      <td>2190</td>\n",
       "      <td>1916</td>\n",
       "    </tr>\n",
       "    <tr>\n",
       "      <td>4</td>\n",
       "      <td>Burglary</td>\n",
       "      <td>2510</td>\n",
       "      <td>1955</td>\n",
       "    </tr>\n",
       "    <tr>\n",
       "      <td>5</td>\n",
       "      <td>Larceny Total</td>\n",
       "      <td>9080</td>\n",
       "      <td>7443</td>\n",
       "    </tr>\n",
       "    <tr>\n",
       "      <td>6</td>\n",
       "      <td>Motor Vehicle Theft</td>\n",
       "      <td>1396</td>\n",
       "      <td>1160</td>\n",
       "    </tr>\n",
       "  </tbody>\n",
       "</table>\n",
       "</div>"
      ],
      "text/plain": [
       "                  2018  January  February\n",
       "0               Murder       48        48\n",
       "1           Rape Total      683       587\n",
       "2        Robbery Total      454       368\n",
       "3              Assault     2190      1916\n",
       "4             Burglary     2510      1955\n",
       "5        Larceny Total     9080      7443\n",
       "6  Motor Vehicle Theft     1396      1160"
      ]
     },
     "execution_count": 19,
     "metadata": {},
     "output_type": "execute_result"
    }
   ],
   "source": [
    "# Getting only the January and February to compare\n",
    "total_df = total_no_nan[['2018','January','February']]\n",
    "total_df"
   ]
  },
  {
   "cell_type": "code",
   "execution_count": 20,
   "metadata": {},
   "outputs": [
    {
     "name": "stdout",
     "output_type": "stream",
     "text": [
      "16361\n",
      "13477\n"
     ]
    }
   ],
   "source": [
    "# Getting sum of each month\n",
    "total_sum = total_df.sum()\n",
    "jan_sum = total_sum[1]\n",
    "feb_sum = total_sum[2]\n",
    "print(jan_sum)\n",
    "print(feb_sum)"
   ]
  },
  {
   "cell_type": "code",
   "execution_count": 21,
   "metadata": {},
   "outputs": [
    {
     "data": {
      "text/plain": [
       "32722"
      ]
     },
     "execution_count": 21,
     "metadata": {},
     "output_type": "execute_result"
    }
   ],
   "source": [
    "# Total of 2018\n",
    "total_2018 = jan_sum + jan_sum\n",
    "total_2018"
   ]
  },
  {
   "cell_type": "code",
   "execution_count": 22,
   "metadata": {},
   "outputs": [
    {
     "name": "stderr",
     "output_type": "stream",
     "text": [
      "C:\\Users\\jana\\Anaconda3\\lib\\site-packages\\ipykernel_launcher.py:3: SettingWithCopyWarning: \n",
      "A value is trying to be set on a copy of a slice from a DataFrame.\n",
      "Try using .loc[row_indexer,col_indexer] = value instead\n",
      "\n",
      "See the caveats in the documentation: http://pandas.pydata.org/pandas-docs/stable/user_guide/indexing.html#returning-a-view-versus-a-copy\n",
      "  This is separate from the ipykernel package so we can avoid doing imports until\n"
     ]
    }
   ],
   "source": [
    "# Deleting the 2018 column and adding a total column to do a sum of both months\n",
    "del total_df[\"2018\"]\n",
    "total_df[\"Total\"] = \"\""
   ]
  },
  {
   "cell_type": "code",
   "execution_count": 23,
   "metadata": {},
   "outputs": [
    {
     "data": {
      "text/html": [
       "<div>\n",
       "<style scoped>\n",
       "    .dataframe tbody tr th:only-of-type {\n",
       "        vertical-align: middle;\n",
       "    }\n",
       "\n",
       "    .dataframe tbody tr th {\n",
       "        vertical-align: top;\n",
       "    }\n",
       "\n",
       "    .dataframe thead th {\n",
       "        text-align: right;\n",
       "    }\n",
       "</style>\n",
       "<table border=\"1\" class=\"dataframe\">\n",
       "  <thead>\n",
       "    <tr style=\"text-align: right;\">\n",
       "      <th></th>\n",
       "      <th>January</th>\n",
       "      <th>February</th>\n",
       "      <th>Total</th>\n",
       "    </tr>\n",
       "  </thead>\n",
       "  <tbody>\n",
       "    <tr>\n",
       "      <td>0</td>\n",
       "      <td>48</td>\n",
       "      <td>48</td>\n",
       "      <td></td>\n",
       "    </tr>\n",
       "    <tr>\n",
       "      <td>1</td>\n",
       "      <td>683</td>\n",
       "      <td>587</td>\n",
       "      <td></td>\n",
       "    </tr>\n",
       "    <tr>\n",
       "      <td>2</td>\n",
       "      <td>454</td>\n",
       "      <td>368</td>\n",
       "      <td></td>\n",
       "    </tr>\n",
       "    <tr>\n",
       "      <td>3</td>\n",
       "      <td>2190</td>\n",
       "      <td>1916</td>\n",
       "      <td></td>\n",
       "    </tr>\n",
       "    <tr>\n",
       "      <td>4</td>\n",
       "      <td>2510</td>\n",
       "      <td>1955</td>\n",
       "      <td></td>\n",
       "    </tr>\n",
       "    <tr>\n",
       "      <td>5</td>\n",
       "      <td>9080</td>\n",
       "      <td>7443</td>\n",
       "      <td></td>\n",
       "    </tr>\n",
       "    <tr>\n",
       "      <td>6</td>\n",
       "      <td>1396</td>\n",
       "      <td>1160</td>\n",
       "      <td></td>\n",
       "    </tr>\n",
       "  </tbody>\n",
       "</table>\n",
       "</div>"
      ],
      "text/plain": [
       "   January  February Total\n",
       "0       48        48      \n",
       "1      683       587      \n",
       "2      454       368      \n",
       "3     2190      1916      \n",
       "4     2510      1955      \n",
       "5     9080      7443      \n",
       "6     1396      1160      "
      ]
     },
     "execution_count": 23,
     "metadata": {},
     "output_type": "execute_result"
    }
   ],
   "source": [
    "# Checking if the code above worked\n",
    "total_df"
   ]
  },
  {
   "cell_type": "code",
   "execution_count": 24,
   "metadata": {},
   "outputs": [
    {
     "data": {
      "text/plain": [
       "0       96\n",
       "1     1270\n",
       "2      822\n",
       "3     4106\n",
       "4     4465\n",
       "5    16523\n",
       "6     2556\n",
       "dtype: int64"
      ]
     },
     "execution_count": 24,
     "metadata": {},
     "output_type": "execute_result"
    }
   ],
   "source": [
    "# Adding the rows together\n",
    "total_row = total_df.sum(axis=1)\n",
    "total_row"
   ]
  },
  {
   "cell_type": "code",
   "execution_count": 25,
   "metadata": {},
   "outputs": [
    {
     "name": "stderr",
     "output_type": "stream",
     "text": [
      "C:\\Users\\jana\\Anaconda3\\lib\\site-packages\\ipykernel_launcher.py:1: SettingWithCopyWarning: \n",
      "A value is trying to be set on a copy of a slice from a DataFrame.\n",
      "Try using .loc[row_indexer,col_indexer] = value instead\n",
      "\n",
      "See the caveats in the documentation: http://pandas.pydata.org/pandas-docs/stable/user_guide/indexing.html#returning-a-view-versus-a-copy\n",
      "  \"\"\"Entry point for launching an IPython kernel.\n"
     ]
    },
    {
     "data": {
      "text/html": [
       "<div>\n",
       "<style scoped>\n",
       "    .dataframe tbody tr th:only-of-type {\n",
       "        vertical-align: middle;\n",
       "    }\n",
       "\n",
       "    .dataframe tbody tr th {\n",
       "        vertical-align: top;\n",
       "    }\n",
       "\n",
       "    .dataframe thead th {\n",
       "        text-align: right;\n",
       "    }\n",
       "</style>\n",
       "<table border=\"1\" class=\"dataframe\">\n",
       "  <thead>\n",
       "    <tr style=\"text-align: right;\">\n",
       "      <th></th>\n",
       "      <th>January</th>\n",
       "      <th>February</th>\n",
       "      <th>Total</th>\n",
       "    </tr>\n",
       "  </thead>\n",
       "  <tbody>\n",
       "    <tr>\n",
       "      <td>0</td>\n",
       "      <td>48</td>\n",
       "      <td>48</td>\n",
       "      <td>96</td>\n",
       "    </tr>\n",
       "    <tr>\n",
       "      <td>1</td>\n",
       "      <td>683</td>\n",
       "      <td>587</td>\n",
       "      <td>1270</td>\n",
       "    </tr>\n",
       "    <tr>\n",
       "      <td>2</td>\n",
       "      <td>454</td>\n",
       "      <td>368</td>\n",
       "      <td>822</td>\n",
       "    </tr>\n",
       "    <tr>\n",
       "      <td>3</td>\n",
       "      <td>2190</td>\n",
       "      <td>1916</td>\n",
       "      <td>4106</td>\n",
       "    </tr>\n",
       "    <tr>\n",
       "      <td>4</td>\n",
       "      <td>2510</td>\n",
       "      <td>1955</td>\n",
       "      <td>4465</td>\n",
       "    </tr>\n",
       "    <tr>\n",
       "      <td>5</td>\n",
       "      <td>9080</td>\n",
       "      <td>7443</td>\n",
       "      <td>16523</td>\n",
       "    </tr>\n",
       "    <tr>\n",
       "      <td>6</td>\n",
       "      <td>1396</td>\n",
       "      <td>1160</td>\n",
       "      <td>2556</td>\n",
       "    </tr>\n",
       "  </tbody>\n",
       "</table>\n",
       "</div>"
      ],
      "text/plain": [
       "   January  February  Total\n",
       "0       48        48     96\n",
       "1      683       587   1270\n",
       "2      454       368    822\n",
       "3     2190      1916   4106\n",
       "4     2510      1955   4465\n",
       "5     9080      7443  16523\n",
       "6     1396      1160   2556"
      ]
     },
     "execution_count": 25,
     "metadata": {},
     "output_type": "execute_result"
    }
   ],
   "source": [
    "total_df[\"Total\"] = total_row\n",
    "total_df"
   ]
  },
  {
   "cell_type": "code",
   "execution_count": 26,
   "metadata": {},
   "outputs": [
    {
     "name": "stdout",
     "output_type": "stream",
     "text": [
      "96\n",
      "1270\n",
      "822\n",
      "4106\n",
      "4465\n",
      "16523\n",
      "2556\n"
     ]
    }
   ],
   "source": [
    "# Getting the sum of each type of crime\n",
    "murder_sum = total_df['Total'][0]\n",
    "rape_sum = total_df['Total'][1]\n",
    "robbery_sum = total_df['Total'][2]\n",
    "assault_sum = total_df['Total'][3]\n",
    "burglary_sum = total_df['Total'][4]\n",
    "larceny_sum = total_df['Total'][5]\n",
    "motor_sum = total_df['Total'][6]\n",
    "print(murder_sum)\n",
    "print(rape_sum)\n",
    "print(robbery_sum)\n",
    "print(assault_sum)\n",
    "print(burglary_sum)\n",
    "print(larceny_sum)\n",
    "print(motor_sum)"
   ]
  },
  {
   "cell_type": "code",
   "execution_count": 27,
   "metadata": {},
   "outputs": [
    {
     "data": {
      "text/plain": [
       "18582"
      ]
     },
     "execution_count": 27,
     "metadata": {},
     "output_type": "execute_result"
    }
   ],
   "source": [
    "# Storing sums of each gender for domestic violence\n",
    "dv_sum = dv_data[\"Total\"][0]\n",
    "dv_sum"
   ]
  },
  {
   "cell_type": "code",
   "execution_count": 35,
   "metadata": {},
   "outputs": [
    {
     "data": {
      "image/png": "[encoded data removed]",
      "text/plain": [
       "<Figure size 504x360 with 1 Axes>"
      ]
     },
     "metadata": {
      "needs_background": "light"
     },
     "output_type": "display_data"
    }
   ],
   "source": [
    "# Bar Graph of 2018\n",
    "crime_types = [\"Murder\",\"Rape\",\"Robbery\",\"Assault\",\"Burglary\",\"Larceny\",\"Motor Vehicle Theft\",\"Domestic Violence\"]\n",
    "counts = [murder_sum, rape_sum, robbery_sum, assault_sum, burglary_sum, larceny_sum, motor_sum, dv_sum]\n",
    "x_axis = np.arange(len(crime_types))\n",
    "color = ['lavender','red','blue','green','crimson','cyan','yellow','lightgreen']\n",
    "\n",
    "plt.figure(figsize=(7,5))\n",
    "\n",
    "tick_locations = [value for value in x_axis]\n",
    "plt.xticks(x_axis, crime_types, rotation=\"45\")\n",
    "\n",
    "\n",
    "plt.bar(x_axis, counts, color=color, alpha=0.75)\n",
    "\n",
    "plt.title(\"Crime Counts of 2018 By Types\")\n",
    "plt.xlabel(\"Type of Crime\")\n",
    "plt.ylabel(\"Number of Arrests\")\n",
    "\n",
    "#plt.savefig(\"Crime Counts 2018\")\n",
    "plt.show()"
   ]
  },
  {
   "cell_type": "code",
   "execution_count": 61,
   "metadata": {},
   "outputs": [
    {
     "data": {
      "text/plain": [
       "<Figure size 504x360 with 0 Axes>"
      ]
     },
     "metadata": {},
     "output_type": "display_data"
    },
    {
     "data": {
      "image/png": "[encoded data removed]",
      "text/plain": [
       "<Figure size 432x288 with 1 Axes>"
      ]
     },
     "metadata": {
      "needs_background": "light"
     },
     "output_type": "display_data"
    }
   ],
   "source": [
    "# Combined Bar Graph of 2018 and 2020\n",
    "crime_types = [\"Murder\",\"Rape\",\"Robbery\",\"Assault\",\"Burglary\",\"Larceny\",\"Motor Vehicle Theft\",\"Domestic Violence\"]\n",
    "counts_2018 = [murder_sum, rape_sum, robbery_sum, assault_sum, burglary_sum, larceny_sum, motor_sum, dv_sum]\n",
    "counts_2020 = [murder_count, rape_count, robbery_count, assault_count, burglary_count, larceny_count, motor_count, dom_violence_count]\n",
    "\n",
    "# Setting the x axis with the number of types of crimes & adding width to separate the 2 bars\n",
    "x_axis = np.arange(len(crime_types))\n",
    "width = 0.35\n",
    "\n",
    "plt.figure(figsize=(7,5))\n",
    "\n",
    "# Used subplot() to graph them side by side for easier comparison & adjusted the outcome of each bar to sit next to each other, rather than overlapping\n",
    "fig, ax = plt.subplots()\n",
    "bar2018 = ax.bar(x_axis - width/2, counts_2018, width, label=\"2018\", color='red',alpha=0.5)\n",
    "bar2020 = ax.bar(x_axis + width/2, counts_2020, width, label=\"2020\", color='green')\n",
    "\n",
    "# Set the title, y label and ticks for the x label, to have the names\n",
    "ax.set_title(\"Count Counts 2018 vs 2020 (from 01/01 to 02/28 for each year)\")\n",
    "ax.set_ylabel(\"Numbers of Arrests\")\n",
    "ax.set_xticks(x_axis)\n",
    "ax.set_xticklabels(crime_types, rotation=30)\n",
    "ax.legend()\n",
    "\n",
    "fig.tight_layout()\n",
    "plt.savefig(\"Bar Crime Counts 2018 vs 2020\")\n",
    "plt.show()"
   ]
  },
  {
   "cell_type": "code",
   "execution_count": null,
   "metadata": {},
   "outputs": [],
   "source": []
  },
  {
   "cell_type": "code",
   "execution_count": 29,
   "metadata": {},
   "outputs": [
    {
     "data": {
      "image/png": "[encoded data removed]",
      "text/plain": [
       "<Figure size 432x288 with 1 Axes>"
      ]
     },
     "metadata": {},
     "output_type": "display_data"
    }
   ],
   "source": [
    "# Total Comparison Pie Chart\n",
    "years = [\"2018\", \"2020\"]\n",
    "totals = [total_2018, total_2020]\n",
    "explode = [0.1,0]\n",
    "\n",
    "plt.pie(totals, colors=['cyan', 'lightgreen'], explode=explode, shadow=True, autopct=\"%1.1f%%\")\n",
    "plt.legend(labels=years, loc=\"upper right\")\n",
    "plt.title(\"Crime Total 2018 vs. 2020\")\n",
    "plt.ylabel(\"Comparison from 01/01 - 02/28\")\n",
    "\n",
    "plt.tight_layout()\n",
    "plt.savefig(\"Crime Total 2018 vs 2020\")\n",
    "plt.show()"
   ]
  },
  {
   "cell_type": "code",
   "execution_count": 34,
   "metadata": {},
   "outputs": [
    {
     "data": {
      "image/png": "[encoded data removed]",
      "text/plain": [
       "<Figure size 504x360 with 1 Axes>"
      ]
     },
     "metadata": {
      "needs_background": "light"
     },
     "output_type": "display_data"
    }
   ],
   "source": [
    "# Total Comparison Bar Graph\n",
    "years = [\"2018\", \"2020\"]\n",
    "totals = [total_2018, total_2020]\n",
    "x_axis = np.arange(len(years))\n",
    "\n",
    "plt.figure(figsize=(7,5))\n",
    "\n",
    "tick_locations = [value for value in x_axis]\n",
    "plt.xticks(x_axis, years)\n",
    "\n",
    "plt.bar(x_axis, totals, color=['green','orange'], alpha=0.5)\n",
    "\n",
    "plt.title(\"Total Crime Counts of 2018 vs 2020\")\n",
    "plt.xlabel(\"Year\")\n",
    "plt.ylabel(\"Number of Arrests (01/01 - 2/28 of each year)\")\n",
    "\n",
    "plt.savefig(\"Bar Total Crime 2018 vs 2020\")\n",
    "plt.show()"
   ]
  },
  {
   "cell_type": "code",
   "execution_count": null,
   "metadata": {},
   "outputs": [],
   "source": []
  }
 ],
 "metadata": {
  "kernelspec": {
   "display_name": "Python 3",
   "language": "python",
   "name": "python3"
  },
  "language_info": {
   "codemirror_mode": {
    "name": "ipython",
    "version": 3
   },
   "file_extension": ".py",
   "mimetype": "text/x-python",
   "name": "python",
   "nbconvert_exporter": "python",
   "pygments_lexer": "ipython3",
   "version": "3.7.4"
  }
 },
 "nbformat": 4,
 "nbformat_minor": 2
}
